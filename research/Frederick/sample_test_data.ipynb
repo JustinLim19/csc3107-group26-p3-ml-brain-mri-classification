{
 "cells": [
  {
   "cell_type": "markdown",
   "metadata": {},
   "source": [
    "### Sampling Unseen Test Data thats not Part of Provided Dataset"
   ]
  },
  {
   "cell_type": "code",
   "execution_count": null,
   "metadata": {},
   "outputs": [],
   "source": [
    "import os\n",
    "import random\n",
    "import shutil\n",
    "\n",
    "# Constant\n",
    "SEED = 2203322\n",
    "\n",
    "# Setting seed for consistent results\n",
    "random.seed(SEED)\n",
    "\n",
    "# Define paths to transfer, compared, and destination folders\n",
    "transfer_folder = './Testing'\n",
    "compared_folder = '../../dataset_26'\n",
    "destination_folder = './unprocessed_test'\n",
    "\n",
    "# Ensure destination folder and its subfolders exist\n",
    "os.makedirs(destination_folder, exist_ok=True)\n",
    "for subfolder in ['glioma', 'meningioma', 'notumor', 'pituitary']:\n",
    "    os.makedirs(os.path.join(destination_folder, subfolder), exist_ok=True)\n",
    "\n",
    "# Iterate through each subfolder\n",
    "subfolders = ['glioma', 'meningioma', 'notumor', 'pituitary']\n",
    "for subfolder in subfolders:\n",
    "    subfolder_transfer = os.path.join(transfer_folder, subfolder)\n",
    "    subfolder_compared = os.path.join(compared_folder, subfolder)\n",
    "    subfolder_destination = os.path.join(destination_folder, subfolder)\n",
    "\n",
    "    # Get lists of files in subfolders of transfer and compared folders\n",
    "    files_transfer = os.listdir(subfolder_transfer)\n",
    "    files_compared = os.listdir(subfolder_compared)\n",
    "\n",
    "    # Identify non-duplicate files in subfolders of transfer folder (not present in subfolders of compared folder)\n",
    "    non_duplicate_files = [file for file in files_transfer if file not in files_compared]\n",
    "\n",
    "    # Shuffle non-duplicate files and select up to 120\n",
    "    random.shuffle(non_duplicate_files)\n",
    "    files_to_transfer = non_duplicate_files[:120]\n",
    "\n",
    "    # Transfer files from subfolder of transfer folder to subfolder of destination folder\n",
    "    for file in files_to_transfer:\n",
    "        source_path = os.path.join(subfolder_transfer, file)\n",
    "        destination_path = os.path.join(subfolder_destination, file)\n",
    "        shutil.copyfile(source_path, destination_path)\n",
    "        print(f\"Copied {file} from {subfolder_transfer} to {subfolder_destination}.\")\n",
    "\n",
    "print(\"Transfer complete.\")"
   ]
  }
 ],
 "metadata": {
  "language_info": {
   "name": "python"
  }
 },
 "nbformat": 4,
 "nbformat_minor": 2
}
