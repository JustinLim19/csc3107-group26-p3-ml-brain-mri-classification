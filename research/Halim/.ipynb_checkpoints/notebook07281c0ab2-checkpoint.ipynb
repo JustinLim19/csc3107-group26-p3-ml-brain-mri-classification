{
 "cells": [
  {
   "cell_type": "markdown",
   "metadata": {
    "id": "35MWtD3XweGl"
   },
   "source": [
    "# Kütüphanelerin Yüklenmesi"
   ]
  },
  {
   "cell_type": "code",
   "execution_count": null,
   "metadata": {
    "executionInfo": {
     "elapsed": 15485,
     "status": "ok",
     "timestamp": 1717134350260,
     "user": {
      "displayName": "fatih emre ertekin",
      "userId": "04821180718194183973"
     },
     "user_tz": -180
    },
    "id": "sq5KcHCxwuWG",
    "outputId": "ee385804-affc-40c5-c7f4-00d9d3da00b7"
   },
   "outputs": [],
   "source": [
    "from google.colab import drive\n",
    "drive.mount('/content/gdrive')"
   ]
  },
  {
   "cell_type": "code",
   "execution_count": null,
   "metadata": {
    "execution": {
     "iopub.execute_input": "2024-06-01T19:48:11.734211Z",
     "iopub.status.busy": "2024-06-01T19:48:11.733603Z",
     "iopub.status.idle": "2024-06-01T19:48:11.743243Z",
     "shell.execute_reply": "2024-06-01T19:48:11.742226Z",
     "shell.execute_reply.started": "2024-06-01T19:48:11.734175Z"
    },
    "executionInfo": {
     "elapsed": 226,
     "status": "ok",
     "timestamp": 1717135396713,
     "user": {
      "displayName": "fatih emre ertekin",
      "userId": "04821180718194183973"
     },
     "user_tz": -180
    },
    "id": "pf2MRNlqweGn"
   },
   "outputs": [],
   "source": [
    "import os\n",
    "import cv2\n",
    "import keras\n",
    "import numpy as np\n",
    "import pandas as pd\n",
    "import seaborn as sns\n",
    "from tqdm import tqdm\n",
    "from glob import glob\n",
    "import tensorflow as tf\n",
    "import matplotlib.pyplot as plt\n",
    "from sklearn.utils import shuffle\n",
    "from keras.applications.inception_v3 import InceptionV3\n",
    "from tensorflow.keras.applications.resnet import preprocess_input, decode_predictions\n",
    "from tensorflow.keras.metrics import Accuracy, Precision, Recall, AUC\n",
    "from tensorflow.keras.utils import to_categorical\n",
    "from tensorflow.keras.preprocessing.image import ImageDataGenerator, img_to_array, load_img\n",
    "from tensorflow.keras import Input, Sequential, Model\n",
    "from tensorflow.keras.models import load_model\n",
    "from tensorflow.keras.layers import Conv2D, MaxPooling2D, Dropout, Flatten, Dense, BatchNormalization, GlobalAveragePooling2D, ZeroPadding2D, AveragePooling2D, Activation\n",
    "from tensorflow.keras.optimizers import Adam\n",
    "from tensorflow.keras.callbacks import ModelCheckpoint, ReduceLROnPlateau, EarlyStopping\n",
    "\n",
    "\n",
    "os.environ['TF_CPP_MIN_LOG_LEVEL'] = \"2\"\n",
    "tf.get_logger().setLevel(\"ERROR\")\n",
    "\n"
   ]
  },
  {
   "cell_type": "markdown",
   "metadata": {
    "id": "Do1mTC5TweGo"
   },
   "source": [
    "# Verilerin Yolunu Belirleyip Diziye Atama"
   ]
  },
  {
   "cell_type": "code",
   "execution_count": null,
   "metadata": {
    "execution": {
     "iopub.execute_input": "2024-06-01T19:48:15.382728Z",
     "iopub.status.busy": "2024-06-01T19:48:15.382357Z",
     "iopub.status.idle": "2024-06-01T19:49:00.130915Z",
     "shell.execute_reply": "2024-06-01T19:49:00.129928Z",
     "shell.execute_reply.started": "2024-06-01T19:48:15.382698Z"
    },
    "executionInfo": {
     "elapsed": 113547,
     "status": "ok",
     "timestamp": 1717135196354,
     "user": {
      "displayName": "fatih emre ertekin",
      "userId": "04821180718194183973"
     },
     "user_tz": -180
    },
    "id": "fBeDV68lweGo"
   },
   "outputs": [],
   "source": [
    "x_train = []\n",
    "y_train = []\n",
    "image_size = 299\n",
    "labels = ['glioma','meningioma','notumor','pituitary']\n",
    "for i in labels:\n",
    "    folderPath = os.path.join('/kaggle/input/Training',i)\n",
    "    for j in os.listdir(folderPath):\n",
    "        img = cv2.imread(os.path.join(folderPath,j))\n",
    "        img = cv2.resize(img,(image_size,image_size))\n",
    "        x_train.append(img)\n",
    "        y_train.append(i)\n",
    "\n",
    "for i in labels:\n",
    "    folderPath = os.path.join('/kaggle/input/Testing',i)\n",
    "    for j in os.listdir(folderPath):\n",
    "        img = cv2.imread(os.path.join(folderPath,j))\n",
    "        img = cv2.resize(img,(image_size,image_size))\n",
    "        x_train.append(img)\n",
    "        y_train.append(i)\n",
    "\n",
    "x_train = np.array(x_train)\n",
    "y_train = np.array(y_train)"
   ]
  },
  {
   "cell_type": "code",
   "execution_count": null,
   "metadata": {
    "execution": {
     "iopub.execute_input": "2024-06-01T19:49:14.132699Z",
     "iopub.status.busy": "2024-06-01T19:49:14.132311Z",
     "iopub.status.idle": "2024-06-01T19:49:14.684753Z",
     "shell.execute_reply": "2024-06-01T19:49:14.683742Z",
     "shell.execute_reply.started": "2024-06-01T19:49:14.132668Z"
    },
    "executionInfo": {
     "elapsed": 583,
     "status": "ok",
     "timestamp": 1717135238463,
     "user": {
      "displayName": "fatih emre ertekin",
      "userId": "04821180718194183973"
     },
     "user_tz": -180
    },
    "id": "1drZvFWWweGo",
    "outputId": "c4511a2e-ac50-44e9-e876-7ecfa3beca90"
   },
   "outputs": [],
   "source": [
    "x_train, y_train = shuffle(x_train, y_train, random_state=42)\n",
    "x_train.shape"
   ]
  },
  {
   "cell_type": "code",
   "execution_count": null,
   "metadata": {
    "execution": {
     "iopub.execute_input": "2024-06-01T19:49:16.310879Z",
     "iopub.status.busy": "2024-06-01T19:49:16.310525Z",
     "iopub.status.idle": "2024-06-01T19:49:16.951216Z",
     "shell.execute_reply": "2024-06-01T19:49:16.950337Z",
     "shell.execute_reply.started": "2024-06-01T19:49:16.31085Z"
    },
    "executionInfo": {
     "elapsed": 748,
     "status": "ok",
     "timestamp": 1717135239816,
     "user": {
      "displayName": "fatih emre ertekin",
      "userId": "04821180718194183973"
     },
     "user_tz": -180
    },
    "id": "_sRULgkNweGp"
   },
   "outputs": [],
   "source": [
    "from sklearn.model_selection import train_test_split\n",
    "X_train, X_test, Y_train, Y_test = train_test_split(x_train, y_train, test_size=0.2, random_state=42)"
   ]
  },
  {
   "cell_type": "markdown",
   "metadata": {
    "id": "WpM-mbrcweGp"
   },
   "source": [
    "# Verileri Karıştırma"
   ]
  },
  {
   "cell_type": "code",
   "execution_count": null,
   "metadata": {
    "execution": {
     "iopub.execute_input": "2024-06-01T19:49:18.730144Z",
     "iopub.status.busy": "2024-06-01T19:49:18.729164Z",
     "iopub.status.idle": "2024-06-01T19:49:18.736128Z",
     "shell.execute_reply": "2024-06-01T19:49:18.735039Z",
     "shell.execute_reply.started": "2024-06-01T19:49:18.730102Z"
    },
    "executionInfo": {
     "elapsed": 308,
     "status": "ok",
     "timestamp": 1717135401045,
     "user": {
      "displayName": "fatih emre ertekin",
      "userId": "04821180718194183973"
     },
     "user_tz": -180
    },
    "id": "LhA4VyuJweGp",
    "outputId": "c2a6b0e8-e5a0-423c-a4f2-4d4049cf9dbb"
   },
   "outputs": [],
   "source": [
    "print(\"Eğitim kümesi boyutu:\", X_train.shape, Y_train.shape)\n",
    "print(\"Test kümesi boyutu:\", X_test.shape, Y_test.shape)"
   ]
  },
  {
   "cell_type": "code",
   "execution_count": null,
   "metadata": {
    "execution": {
     "iopub.execute_input": "2024-06-01T19:49:21.274458Z",
     "iopub.status.busy": "2024-06-01T19:49:21.273754Z",
     "iopub.status.idle": "2024-06-01T19:49:21.279822Z",
     "shell.execute_reply": "2024-06-01T19:49:21.27889Z",
     "shell.execute_reply.started": "2024-06-01T19:49:21.274418Z"
    },
    "executionInfo": {
     "elapsed": 274,
     "status": "ok",
     "timestamp": 1717135243786,
     "user": {
      "displayName": "fatih emre ertekin",
      "userId": "04821180718194183973"
     },
     "user_tz": -180
    },
    "id": "ZoPkRZZ_weGq",
    "outputId": "d1aa2c72-3ed5-4bca-c26d-19ca81a033f5"
   },
   "outputs": [],
   "source": [
    "print(\"Eğitim kümesi ilk 5 etiket: \", Y_train[:5])\n",
    "print(\"Test kümesi ilk 5 etiket: \", Y_test[:5])"
   ]
  },
  {
   "cell_type": "markdown",
   "metadata": {
    "id": "9kHtAIQ1weGq"
   },
   "source": [
    "# convert the label values in categorical variables"
   ]
  },
  {
   "cell_type": "code",
   "execution_count": null,
   "metadata": {
    "execution": {
     "iopub.execute_input": "2024-06-01T19:49:28.835341Z",
     "iopub.status.busy": "2024-06-01T19:49:28.834648Z",
     "iopub.status.idle": "2024-06-01T19:49:28.84623Z",
     "shell.execute_reply": "2024-06-01T19:49:28.845255Z",
     "shell.execute_reply.started": "2024-06-01T19:49:28.835307Z"
    },
    "executionInfo": {
     "elapsed": 1,
     "status": "ok",
     "timestamp": 1717135244610,
     "user": {
      "displayName": "fatih emre ertekin",
      "userId": "04821180718194183973"
     },
     "user_tz": -180
    },
    "id": "PF9vlNSuweGq"
   },
   "outputs": [],
   "source": [
    "Y_ohe_train_list=[]\n",
    "for i in Y_train:\n",
    "    if(i=='glioma'):\n",
    "        Y_ohe_train_list.append(0)\n",
    "    elif(i=='meningioma'):\n",
    "        Y_ohe_train_list.append(1)\n",
    "    elif(i=='notumor'):\n",
    "        Y_ohe_train_list.append(2)\n",
    "    elif(i=='pituitary'):\n",
    "        Y_ohe_train_list.append(3)\n",
    "\n",
    "Y_ohe_train = tf.keras.utils.to_categorical(Y_ohe_train_list)"
   ]
  },
  {
   "cell_type": "code",
   "execution_count": null,
   "metadata": {
    "execution": {
     "iopub.execute_input": "2024-06-01T19:49:30.805298Z",
     "iopub.status.busy": "2024-06-01T19:49:30.804892Z",
     "iopub.status.idle": "2024-06-01T19:49:30.811048Z",
     "shell.execute_reply": "2024-06-01T19:49:30.810056Z",
     "shell.execute_reply.started": "2024-06-01T19:49:30.805269Z"
    },
    "executionInfo": {
     "elapsed": 356,
     "status": "ok",
     "timestamp": 1717135246083,
     "user": {
      "displayName": "fatih emre ertekin",
      "userId": "04821180718194183973"
     },
     "user_tz": -180
    },
    "id": "2xUbx41sweGq",
    "outputId": "b44e30fe-ecad-48c3-b712-7733a16bd5b0"
   },
   "outputs": [],
   "source": [
    "print(\"Eğitim kümesi one hot encode edilmiş ilk 5 etiket: \\n\", Y_ohe_train[:5])"
   ]
  },
  {
   "cell_type": "code",
   "execution_count": null,
   "metadata": {
    "execution": {
     "iopub.execute_input": "2024-06-01T19:49:39.471811Z",
     "iopub.status.busy": "2024-06-01T19:49:39.470954Z",
     "iopub.status.idle": "2024-06-01T19:49:39.478481Z",
     "shell.execute_reply": "2024-06-01T19:49:39.477607Z",
     "shell.execute_reply.started": "2024-06-01T19:49:39.471779Z"
    },
    "executionInfo": {
     "elapsed": 3,
     "status": "ok",
     "timestamp": 1717135246833,
     "user": {
      "displayName": "fatih emre ertekin",
      "userId": "04821180718194183973"
     },
     "user_tz": -180
    },
    "id": "yAHnTEfyweGq"
   },
   "outputs": [],
   "source": [
    "Y_ohe_test_list=[]\n",
    "for i in Y_test:\n",
    "    if(i=='glioma'):\n",
    "        Y_ohe_test_list.append(0)\n",
    "    elif(i=='meningioma'):\n",
    "        Y_ohe_test_list.append(1)\n",
    "    elif(i=='notumor'):\n",
    "        Y_ohe_test_list.append(2)\n",
    "    elif(i=='pituitary'):\n",
    "        Y_ohe_test_list.append(3)\n",
    "\n",
    "Y_ohe_test = tf.keras.utils.to_categorical(Y_ohe_test_list)"
   ]
  },
  {
   "cell_type": "code",
   "execution_count": null,
   "metadata": {
    "execution": {
     "iopub.execute_input": "2024-06-01T19:49:42.331844Z",
     "iopub.status.busy": "2024-06-01T19:49:42.331498Z",
     "iopub.status.idle": "2024-06-01T19:49:42.337589Z",
     "shell.execute_reply": "2024-06-01T19:49:42.33669Z",
     "shell.execute_reply.started": "2024-06-01T19:49:42.331818Z"
    },
    "executionInfo": {
     "elapsed": 295,
     "status": "ok",
     "timestamp": 1717135248415,
     "user": {
      "displayName": "fatih emre ertekin",
      "userId": "04821180718194183973"
     },
     "user_tz": -180
    },
    "id": "PNInZeKmweGr",
    "outputId": "c46b93c7-8da8-400d-b92d-26cf0d99758e"
   },
   "outputs": [],
   "source": [
    "print(\"Test kümesi one hot encode edilmiş ilk 5 etiket: \\n\", Y_ohe_test[:5])"
   ]
  },
  {
   "cell_type": "markdown",
   "metadata": {
    "id": "ZBkpUUgLweGr"
   },
   "source": [
    "# Create a VGG19 Transfer Learning Model"
   ]
  },
  {
   "cell_type": "code",
   "execution_count": null,
   "metadata": {
    "execution": {
     "iopub.execute_input": "2024-06-01T19:50:01.400549Z",
     "iopub.status.busy": "2024-06-01T19:50:01.399737Z",
     "iopub.status.idle": "2024-06-01T19:50:07.80327Z",
     "shell.execute_reply": "2024-06-01T19:50:07.802192Z",
     "shell.execute_reply.started": "2024-06-01T19:50:01.400518Z"
    },
    "executionInfo": {
     "elapsed": 17484,
     "status": "ok",
     "timestamp": 1717135519375,
     "user": {
      "displayName": "fatih emre ertekin",
      "userId": "04821180718194183973"
     },
     "user_tz": -180
    },
    "id": "fjRhDjyDweGr",
    "outputId": "d7d95f36-12fc-47d4-e830-eddbc32a3667"
   },
   "outputs": [],
   "source": [
    "# VGG19 modelini yükle, son fully connected katmanlarını çıkar\n",
    "base_model = InceptionV3(weights=\"imagenet\", include_top=False, input_shape=(image_size, image_size, 3))\n",
    "\n",
    "# Yeni bir model oluştur ve fully connected katmanları ekle\n",
    "x = base_model.output\n",
    "x = AveragePooling2D((8,8))(x)\n",
    "x = Dense(2048, activation='relu')(x)\n",
    "x = Flatten()(x)\n",
    "x = Dense(4, activation='softmax')(x)\n",
    "\n",
    "model = Model(inputs=base_model.input, outputs=x)\n",
    "\n",
    "# Bazı katmanları eğitilmeyecek şekilde dondur\n",
    "for layer in model.layers[:249]:\n",
    "   layer.trainable = False\n",
    "for layer in model.layers[249:]:\n",
    "   layer.trainable = True"
   ]
  },
  {
   "cell_type": "code",
   "execution_count": null,
   "metadata": {
    "execution": {
     "iopub.execute_input": "2024-06-01T19:50:11.741791Z",
     "iopub.status.busy": "2024-06-01T19:50:11.741459Z",
     "iopub.status.idle": "2024-06-01T19:50:12.155356Z",
     "shell.execute_reply": "2024-06-01T19:50:12.154454Z",
     "shell.execute_reply.started": "2024-06-01T19:50:11.741765Z"
    },
    "executionInfo": {
     "elapsed": 920,
     "status": "ok",
     "timestamp": 1717135534730,
     "user": {
      "displayName": "fatih emre ertekin",
      "userId": "04821180718194183973"
     },
     "user_tz": -180
    },
    "id": "iPrXvyfXweGr",
    "outputId": "8e962de0-deea-45ae-cd5f-e492b100ec54"
   },
   "outputs": [],
   "source": [
    "# Modelin özetini yazdır\n",
    "model.summary()"
   ]
  },
  {
   "cell_type": "code",
   "execution_count": null,
   "metadata": {
    "execution": {
     "iopub.execute_input": "2024-06-01T19:50:35.224638Z",
     "iopub.status.busy": "2024-06-01T19:50:35.223997Z",
     "iopub.status.idle": "2024-06-01T19:50:35.23025Z",
     "shell.execute_reply": "2024-06-01T19:50:35.229158Z",
     "shell.execute_reply.started": "2024-06-01T19:50:35.224604Z"
    },
    "executionInfo": {
     "elapsed": 234,
     "status": "ok",
     "timestamp": 1717135693493,
     "user": {
      "displayName": "fatih emre ertekin",
      "userId": "04821180718194183973"
     },
     "user_tz": -180
    },
    "id": "yttmHfgUweGr"
   },
   "outputs": [],
   "source": [
    "checkpoint = ModelCheckpoint(filepath='/kaggle/working/BEST_inceptionV3_pretrained.keras', monitor='val_loss', save_best_only=True, save_weights_only=False, verbose=1)\n",
    "\n",
    "reduce_learning_rate = ReduceLROnPlateau(monitor='val_loss', factor=0.1, patience=10, verbose=1)\n",
    "\n",
    "early_stopping = EarlyStopping(monitor='val_accuracy', verbose=1, patience=30)\n",
    "\n",
    "callbacks = [checkpoint, reduce_learning_rate, early_stopping]"
   ]
  },
  {
   "cell_type": "code",
   "execution_count": null,
   "metadata": {
    "execution": {
     "iopub.execute_input": "2024-06-01T19:50:39.355207Z",
     "iopub.status.busy": "2024-06-01T19:50:39.354828Z",
     "iopub.status.idle": "2024-06-01T19:50:39.371894Z",
     "shell.execute_reply": "2024-06-01T19:50:39.370806Z",
     "shell.execute_reply.started": "2024-06-01T19:50:39.355175Z"
    },
    "executionInfo": {
     "elapsed": 372,
     "status": "ok",
     "timestamp": 1717135695566,
     "user": {
      "displayName": "fatih emre ertekin",
      "userId": "04821180718194183973"
     },
     "user_tz": -180
    },
    "id": "ThwuDQvtweGr"
   },
   "outputs": [],
   "source": [
    "# model compile\n",
    "# model.compile(optimizer=Adam(learning_rate=1e-4), loss='categorical_crossentropy', metrics=['accuracy'])\n",
    "from tensorflow.keras.optimizers import SGD\n",
    "model.compile(optimizer=SGD(learning_rate=0.0001, momentum=0.9), loss='categorical_crossentropy', metrics=['accuracy'])"
   ]
  },
  {
   "cell_type": "code",
   "execution_count": null,
   "metadata": {
    "execution": {
     "iopub.execute_input": "2024-06-01T19:50:44.292755Z",
     "iopub.status.busy": "2024-06-01T19:50:44.292104Z",
     "iopub.status.idle": "2024-06-01T20:23:08.61764Z",
     "shell.execute_reply": "2024-06-01T20:23:08.616696Z",
     "shell.execute_reply.started": "2024-06-01T19:50:44.292721Z"
    },
    "id": "4jhpTKiwweGs",
    "outputId": "dae20ba2-fc2b-427a-9c38-a54b1077d68e"
   },
   "outputs": [],
   "source": [
    "# Modeli eğitin\n",
    "history = model.fit(X_train, Y_ohe_train, epochs=2000, batch_size=128, validation_split=0.2, verbose=1, callbacks = callbacks)"
   ]
  },
  {
   "cell_type": "code",
   "execution_count": null,
   "metadata": {
    "execution": {
     "iopub.execute_input": "2024-06-01T20:32:05.913176Z",
     "iopub.status.busy": "2024-06-01T20:32:05.91276Z",
     "iopub.status.idle": "2024-06-01T20:32:06.245265Z",
     "shell.execute_reply": "2024-06-01T20:32:06.244316Z",
     "shell.execute_reply.started": "2024-06-01T20:32:05.913137Z"
    },
    "executionInfo": {
     "elapsed": 286,
     "status": "error",
     "timestamp": 1717138150807,
     "user": {
      "displayName": "fatih emre ertekin",
      "userId": "04821180718194183973"
     },
     "user_tz": -180
    },
    "id": "ZmpQRnwVweGs",
    "outputId": "aaeaff13-42be-4e0e-d03c-b07f8f2977ac"
   },
   "outputs": [],
   "source": [
    "#model.save('braintumor.h5')\n",
    "\n",
    "acc = history.history['accuracy']\n",
    "val_acc = history.history['val_accuracy']\n",
    "epochs = range(len(acc))\n",
    "fig = plt.figure(figsize=(14,7))\n",
    "plt.plot(epochs,acc,'r',label=\"Training Accuracy\")\n",
    "plt.plot(epochs,val_acc,'b',label=\"Validation Accuracy\")\n",
    "plt.legend(loc='upper left')\n",
    "plt.show()"
   ]
  },
  {
   "cell_type": "code",
   "execution_count": null,
   "metadata": {
    "execution": {
     "iopub.execute_input": "2024-06-01T20:32:14.781418Z",
     "iopub.status.busy": "2024-06-01T20:32:14.781023Z",
     "iopub.status.idle": "2024-06-01T20:32:15.040585Z",
     "shell.execute_reply": "2024-06-01T20:32:15.039552Z",
     "shell.execute_reply.started": "2024-06-01T20:32:14.781388Z"
    },
    "executionInfo": {
     "elapsed": 1104,
     "status": "ok",
     "timestamp": 1717133257092,
     "user": {
      "displayName": "fatih emre ertekin",
      "userId": "04821180718194183973"
     },
     "user_tz": -180
    },
    "id": "lVY-ul1TweGs",
    "outputId": "095c5920-d127-447f-ba52-39663f370a68"
   },
   "outputs": [],
   "source": [
    "loss = history.history['loss']\n",
    "val_loss = history.history['val_loss']\n",
    "epochs = range(len(loss))\n",
    "fig = plt.figure(figsize=(14,7))\n",
    "plt.plot(epochs,loss,'r',label=\"Training loss\")\n",
    "plt.plot(epochs,val_loss,'b',label=\"Validation loss\")\n",
    "plt.legend(loc='upper left')\n",
    "plt.show()"
   ]
  },
  {
   "cell_type": "code",
   "execution_count": null,
   "metadata": {
    "executionInfo": {
     "elapsed": 260610,
     "status": "ok",
     "timestamp": 1717133588639,
     "user": {
      "displayName": "fatih emre ertekin",
      "userId": "04821180718194183973"
     },
     "user_tz": -180
    },
    "id": "1S7eADhyweGs",
    "outputId": "799edd8b-f13e-43c1-d956-8d7a539392c5"
   },
   "outputs": [],
   "source": [
    "import cv2\n",
    "import numpy as np\n",
    "from tensorflow.keras.models import load_model\n",
    "\n",
    "# Modeli yükleyin (eğer önceden kaydedilmiş bir model varsa)\n",
    "model = load_model('/kaggle/working/BEST_inceptionV3_pretrained.keras')\n",
    "\n",
    "predict_list = []\n",
    "# Görüntüyü oku ve yeniden boyutlandır\n",
    "for img in X_test:\n",
    "    img_array = np.array(img)\n",
    "    img_array = img_array.reshape(1, image_size, image_size, 3)\n",
    "    pred = model.predict(img_array)\n",
    "    indices = pred.argmax()\n",
    "    predict_list.append(indices)"
   ]
  },
  {
   "cell_type": "code",
   "execution_count": null,
   "metadata": {
    "execution": {
     "iopub.execute_input": "2024-06-01T20:40:03.046189Z",
     "iopub.status.busy": "2024-06-01T20:40:03.04544Z",
     "iopub.status.idle": "2024-06-01T20:40:03.050953Z",
     "shell.execute_reply": "2024-06-01T20:40:03.049986Z",
     "shell.execute_reply.started": "2024-06-01T20:40:03.046157Z"
    },
    "executionInfo": {
     "elapsed": 307,
     "status": "ok",
     "timestamp": 1717133629677,
     "user": {
      "displayName": "fatih emre ertekin",
      "userId": "04821180718194183973"
     },
     "user_tz": -180
    },
    "id": "OSKnsl5EweGs",
    "outputId": "e97588ec-5517-488f-f850-9628d0d8581c"
   },
   "outputs": [],
   "source": [
    "print(Y_ohe_test_list[:30])"
   ]
  },
  {
   "cell_type": "code",
   "execution_count": null,
   "metadata": {
    "execution": {
     "iopub.execute_input": "2024-06-01T20:40:05.397279Z",
     "iopub.status.busy": "2024-06-01T20:40:05.396936Z",
     "iopub.status.idle": "2024-06-01T20:40:05.401928Z",
     "shell.execute_reply": "2024-06-01T20:40:05.401095Z",
     "shell.execute_reply.started": "2024-06-01T20:40:05.397252Z"
    },
    "executionInfo": {
     "elapsed": 281,
     "status": "ok",
     "timestamp": 1717133649370,
     "user": {
      "displayName": "fatih emre ertekin",
      "userId": "04821180718194183973"
     },
     "user_tz": -180
    },
    "id": "IZfQdIbKweGs",
    "outputId": "544fc0cf-035c-4152-c7eb-e2a5b9ed5d84"
   },
   "outputs": [],
   "source": [
    "print(predict_list[:30])"
   ]
  },
  {
   "cell_type": "code",
   "execution_count": null,
   "metadata": {
    "execution": {
     "iopub.execute_input": "2024-06-01T20:40:24.905617Z",
     "iopub.status.busy": "2024-06-01T20:40:24.904924Z",
     "iopub.status.idle": "2024-06-01T20:40:25.159068Z",
     "shell.execute_reply": "2024-06-01T20:40:25.158187Z",
     "shell.execute_reply.started": "2024-06-01T20:40:24.905584Z"
    },
    "executionInfo": {
     "elapsed": 775,
     "status": "ok",
     "timestamp": 1717133670347,
     "user": {
      "displayName": "fatih emre ertekin",
      "userId": "04821180718194183973"
     },
     "user_tz": -180
    },
    "id": "7Hh4RMCSweGt",
    "outputId": "9190d5f0-515a-4c22-c5af-eeb5bca9b142"
   },
   "outputs": [],
   "source": [
    "import numpy as np\n",
    "import matplotlib.pyplot as plt\n",
    "from sklearn.metrics import confusion_matrix, ConfusionMatrixDisplay\n",
    "\n",
    "# Sınıf etiketleri\n",
    "labels = ['glioma', 'meningioma', 'notumor', 'pituitary']\n",
    "\n",
    "# Karışıklık matrisi oluşturma\n",
    "cm = confusion_matrix(Y_ohe_test_list, predict_list)\n",
    "\n",
    "# Karışıklık matrisini görselleştirme\n",
    "disp = ConfusionMatrixDisplay(confusion_matrix=cm, display_labels=labels)\n",
    "fig, ax = plt.subplots(figsize=(8, 8))\n",
    "disp.plot(ax=ax, cmap='Blues', xticks_rotation='vertical')\n",
    "plt.show()\n"
   ]
  },
  {
   "cell_type": "code",
   "execution_count": null,
   "metadata": {
    "execution": {
     "iopub.execute_input": "2024-06-01T20:40:33.785605Z",
     "iopub.status.busy": "2024-06-01T20:40:33.785246Z",
     "iopub.status.idle": "2024-06-01T20:40:33.823369Z",
     "shell.execute_reply": "2024-06-01T20:40:33.822515Z",
     "shell.execute_reply.started": "2024-06-01T20:40:33.785576Z"
    },
    "executionInfo": {
     "elapsed": 292,
     "status": "ok",
     "timestamp": 1717133691701,
     "user": {
      "displayName": "fatih emre ertekin",
      "userId": "04821180718194183973"
     },
     "user_tz": -180
    },
    "id": "dz_KV9eLweGt",
    "outputId": "f45041df-ca07-45f3-cab9-0b7de864da80"
   },
   "outputs": [],
   "source": [
    "from sklearn import metrics\n",
    "report = metrics.classification_report(Y_ohe_test_list, predict_list, output_dict=True)\n",
    "df = pd.DataFrame(report).transpose()\n",
    "df"
   ]
  },
  {
   "cell_type": "code",
   "execution_count": null,
   "metadata": {
    "execution": {
     "iopub.execute_input": "2024-06-01T20:40:40.058713Z",
     "iopub.status.busy": "2024-06-01T20:40:40.057889Z",
     "iopub.status.idle": "2024-06-01T20:41:10.518865Z",
     "shell.execute_reply": "2024-06-01T20:41:10.517833Z",
     "shell.execute_reply.started": "2024-06-01T20:40:40.05868Z"
    }
   },
   "outputs": [],
   "source": [
    "test_eval = model.evaluate(X_test, Y_ohe_test, verbose=0)"
   ]
  },
  {
   "cell_type": "code",
   "execution_count": null,
   "metadata": {
    "execution": {
     "iopub.execute_input": "2024-06-01T20:41:13.763169Z",
     "iopub.status.busy": "2024-06-01T20:41:13.762798Z",
     "iopub.status.idle": "2024-06-01T20:41:13.768563Z",
     "shell.execute_reply": "2024-06-01T20:41:13.76738Z",
     "shell.execute_reply.started": "2024-06-01T20:41:13.763138Z"
    }
   },
   "outputs": [],
   "source": [
    "print(f\"Test Loss:      {test_eval[0]:.3f}\")\n",
    "print(f\"Test Accuracy:  {test_eval[1]:.3f}\")"
   ]
  },
  {
   "cell_type": "code",
   "execution_count": null,
   "metadata": {
    "execution": {
     "iopub.execute_input": "2024-06-01T20:42:58.650176Z",
     "iopub.status.busy": "2024-06-01T20:42:58.649467Z",
     "iopub.status.idle": "2024-06-01T20:42:58.884718Z",
     "shell.execute_reply": "2024-06-01T20:42:58.883861Z",
     "shell.execute_reply.started": "2024-06-01T20:42:58.650142Z"
    },
    "executionInfo": {
     "elapsed": 1030,
     "status": "ok",
     "timestamp": 1717133759280,
     "user": {
      "displayName": "fatih emre ertekin",
      "userId": "04821180718194183973"
     },
     "user_tz": -180
    },
    "id": "6tNs1SyMweGt",
    "outputId": "bc7fdc1a-0fa9-4b42-8f53-89c791806e3b"
   },
   "outputs": [],
   "source": [
    "from tensorflow.keras.preprocessing import image\n",
    "img = image.load_img('/kaggle/input/Testing/meningioma/Te-meTr_0002.jpg')\n",
    "plt.imshow(img,interpolation='nearest')\n",
    "plt.show()"
   ]
  }
 ],
 "metadata": {
  "accelerator": "GPU",
  "colab": {
   "gpuType": "T4",
   "provenance": []
  },
  "kaggle": {
   "accelerator": "none",
   "dataSources": [
    {
     "datasetId": 1608934,
     "sourceId": 2645886,
     "sourceType": "datasetVersion"
    }
   ],
   "dockerImageVersionId": 30732,
   "isGpuEnabled": false,
   "isInternetEnabled": false,
   "language": "python",
   "sourceType": "notebook"
  },
  "kernelspec": {
   "display_name": "Python 3 (ipykernel)",
   "language": "python",
   "name": "python3"
  },
  "language_info": {
   "codemirror_mode": {
    "name": "ipython",
    "version": 3
   },
   "file_extension": ".py",
   "mimetype": "text/x-python",
   "name": "python",
   "nbconvert_exporter": "python",
   "pygments_lexer": "ipython3",
   "version": "3.10.13"
  }
 },
 "nbformat": 4,
 "nbformat_minor": 4
}
