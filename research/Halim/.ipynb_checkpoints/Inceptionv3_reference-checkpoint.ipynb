{
 "cells": [
  {
   "cell_type": "markdown",
   "metadata": {
    "id": "p0oz3ShXF0Qa"
   },
   "source": [
    "#  IMPORT LIBRARIES AND DATASETS"
   ]
  },
  {
   "cell_type": "code",
   "execution_count": null,
   "metadata": {
    "execution": {
     "iopub.execute_input": "2021-12-07T00:04:08.630376Z",
     "iopub.status.busy": "2021-12-07T00:04:08.629887Z",
     "iopub.status.idle": "2021-12-07T00:04:14.98906Z",
     "shell.execute_reply": "2021-12-07T00:04:14.988303Z",
     "shell.execute_reply.started": "2021-12-07T00:04:08.630285Z"
    },
    "id": "BDv169iyF3aL"
   },
   "outputs": [],
   "source": [
    "import pandas as pd\n",
    "import numpy as np\n",
    "import seaborn as sns\n",
    "import matplotlib.pyplot as plt\n",
    "import zipfile\n",
    "import cv2\n",
    "from skimage import io\n",
    "import tensorflow as tf\n",
    "from tensorflow.python.keras import Sequential\n",
    "from tensorflow.keras import layers, optimizers\n",
    "from tensorflow.keras.applications import InceptionV3\n",
    "from tensorflow.keras.layers import *\n",
    "from tensorflow.keras.models import Model, load_model\n",
    "from tensorflow.keras.initializers import glorot_uniform\n",
    "from tensorflow.keras.utils import plot_model\n",
    "from tensorflow.keras.callbacks import ReduceLROnPlateau, EarlyStopping, ModelCheckpoint, LearningRateScheduler\n",
    "from IPython.display import display\n",
    "from tensorflow.keras import backend as K\n",
    "from sklearn.preprocessing import StandardScaler, normalize\n",
    "import os\n",
    "import glob\n",
    "import random\n",
    "%matplotlib inline"
   ]
  },
  {
   "cell_type": "code",
   "execution_count": null,
   "metadata": {
    "execution": {
     "iopub.execute_input": "2021-12-07T00:04:14.990994Z",
     "iopub.status.busy": "2021-12-07T00:04:14.990723Z",
     "iopub.status.idle": "2021-12-07T00:04:15.019214Z",
     "shell.execute_reply": "2021-12-07T00:04:15.018535Z",
     "shell.execute_reply.started": "2021-12-07T00:04:14.990961Z"
    },
    "id": "s6gXD9ntF7Ob"
   },
   "outputs": [],
   "source": [
    "# Navigate to My Drive directory to store the dataset\n",
    "%cd /kaggle/input/healthcare-mri-for-brain-tumor/Healthcare AI Datasets/Brain_MRI\n"
   ]
  },
  {
   "cell_type": "code",
   "execution_count": null,
   "metadata": {
    "execution": {
     "iopub.execute_input": "2021-12-07T00:04:15.020721Z",
     "iopub.status.busy": "2021-12-07T00:04:15.020413Z",
     "iopub.status.idle": "2021-12-07T00:04:15.058458Z",
     "shell.execute_reply": "2021-12-07T00:04:15.057857Z",
     "shell.execute_reply.started": "2021-12-07T00:04:15.020683Z"
    },
    "id": "2OxJ-lbNF_g5"
   },
   "outputs": [],
   "source": [
    "# data containing path to Brain MRI and their corresponding mask\n",
    "brain_df = pd.read_csv('data_mask.csv')"
   ]
  },
  {
   "cell_type": "code",
   "execution_count": null,
   "metadata": {
    "execution": {
     "iopub.execute_input": "2021-12-07T00:04:15.0601Z",
     "iopub.status.busy": "2021-12-07T00:04:15.059504Z",
     "iopub.status.idle": "2021-12-07T00:04:15.08299Z",
     "shell.execute_reply": "2021-12-07T00:04:15.082224Z",
     "shell.execute_reply.started": "2021-12-07T00:04:15.060054Z"
    },
    "id": "R9buEiTHZfxY"
   },
   "outputs": [],
   "source": [
    "brain_df.info()"
   ]
  },
  {
   "cell_type": "code",
   "execution_count": null,
   "metadata": {
    "execution": {
     "iopub.execute_input": "2021-12-07T00:04:15.086162Z",
     "iopub.status.busy": "2021-12-07T00:04:15.085346Z",
     "iopub.status.idle": "2021-12-07T00:04:15.103179Z",
     "shell.execute_reply": "2021-12-07T00:04:15.10245Z",
     "shell.execute_reply.started": "2021-12-07T00:04:15.086113Z"
    },
    "id": "Gh9HnkX7GCot"
   },
   "outputs": [],
   "source": [
    "brain_df.head()"
   ]
  },
  {
   "cell_type": "code",
   "execution_count": null,
   "metadata": {
    "execution": {
     "iopub.execute_input": "2021-12-07T00:04:15.104958Z",
     "iopub.status.busy": "2021-12-07T00:04:15.104443Z",
     "iopub.status.idle": "2021-12-07T00:04:15.111254Z",
     "shell.execute_reply": "2021-12-07T00:04:15.110397Z",
     "shell.execute_reply.started": "2021-12-07T00:04:15.104919Z"
    },
    "id": "mCsDiCypuZy-"
   },
   "outputs": [],
   "source": [
    "brain_df.mask_path[1] # Path to the brain MRI image"
   ]
  },
  {
   "cell_type": "code",
   "execution_count": null,
   "metadata": {
    "execution": {
     "iopub.execute_input": "2021-12-07T00:04:15.113671Z",
     "iopub.status.busy": "2021-12-07T00:04:15.112989Z",
     "iopub.status.idle": "2021-12-07T00:04:15.120017Z",
     "shell.execute_reply": "2021-12-07T00:04:15.119132Z",
     "shell.execute_reply.started": "2021-12-07T00:04:15.113539Z"
    },
    "id": "ptLPc8pMugQP"
   },
   "outputs": [],
   "source": [
    "brain_df.image_path[1] # Path to the segmentation mask"
   ]
  },
  {
   "cell_type": "markdown",
   "metadata": {
    "id": "L9mCQpPnGFJP"
   },
   "source": [
    "# PERFORM DATA VISUALIZATION"
   ]
  },
  {
   "cell_type": "code",
   "execution_count": null,
   "metadata": {
    "execution": {
     "iopub.execute_input": "2021-12-07T00:04:15.122533Z",
     "iopub.status.busy": "2021-12-07T00:04:15.121922Z",
     "iopub.status.idle": "2021-12-07T00:04:15.133783Z",
     "shell.execute_reply": "2021-12-07T00:04:15.132942Z",
     "shell.execute_reply.started": "2021-12-07T00:04:15.122496Z"
    },
    "id": "dy6yRk4m-Og0",
    "outputId": "8aa4f6af-6b2b-4fc9-da3f-8bc278347ee1"
   },
   "outputs": [],
   "source": [
    "brain_df[:5]"
   ]
  },
  {
   "cell_type": "code",
   "execution_count": null,
   "metadata": {
    "execution": {
     "iopub.execute_input": "2021-12-07T00:04:15.135308Z",
     "iopub.status.busy": "2021-12-07T00:04:15.134958Z",
     "iopub.status.idle": "2021-12-07T00:04:15.142601Z",
     "shell.execute_reply": "2021-12-07T00:04:15.141907Z",
     "shell.execute_reply.started": "2021-12-07T00:04:15.135184Z"
    },
    "id": "HmLcDCihsPmg",
    "outputId": "406c0e49-74bf-42d5-8efe-e0f9234be071"
   },
   "outputs": [],
   "source": [
    "brain_df['mask'].value_counts().index"
   ]
  },
  {
   "cell_type": "code",
   "execution_count": null,
   "metadata": {
    "execution": {
     "iopub.execute_input": "2021-12-07T00:04:15.144176Z",
     "iopub.status.busy": "2021-12-07T00:04:15.143777Z",
     "iopub.status.idle": "2021-12-07T00:04:15.331109Z",
     "shell.execute_reply": "2021-12-07T00:04:15.330395Z",
     "shell.execute_reply.started": "2021-12-07T00:04:15.144141Z"
    },
    "id": "Z1iqEso5GK7F",
    "outputId": "c39f6519-a106-490c-ae40-54995f2ab2f5"
   },
   "outputs": [],
   "source": [
    "# Use plotly to plot interactive bar chart\n",
    "import plotly.graph_objects as go\n",
    "\n",
    "fig = go.Figure([go.Bar(x = brain_df['mask'].value_counts().index, y = brain_df['mask'].value_counts())])\n",
    "fig.update_traces(marker_color = 'rgb(0,200,0)', marker_line_color = 'rgb(0,0,0)',\n",
    "                  marker_line_width = 2, opacity = 0.6)\n",
    "fig.show()"
   ]
  },
  {
   "cell_type": "code",
   "execution_count": null,
   "metadata": {
    "execution": {
     "iopub.execute_input": "2021-12-07T00:04:15.332661Z",
     "iopub.status.busy": "2021-12-07T00:04:15.332339Z",
     "iopub.status.idle": "2021-12-07T00:04:15.341988Z",
     "shell.execute_reply": "2021-12-07T00:04:15.340974Z",
     "shell.execute_reply.started": "2021-12-07T00:04:15.332622Z"
    }
   },
   "outputs": [],
   "source": [
    "# Obtain the percentage of images with mask\n",
    "round((brain_df['mask'].value_counts()* 100 / len(brain_df['mask'])),2)"
   ]
  },
  {
   "cell_type": "code",
   "execution_count": null,
   "metadata": {
    "execution": {
     "iopub.execute_input": "2021-12-07T00:04:15.344034Z",
     "iopub.status.busy": "2021-12-07T00:04:15.343718Z",
     "iopub.status.idle": "2021-12-07T00:04:15.35267Z",
     "shell.execute_reply": "2021-12-07T00:04:15.351903Z",
     "shell.execute_reply.started": "2021-12-07T00:04:15.343993Z"
    },
    "id": "n87lR_AGtv6C",
    "outputId": "10590fcb-c5d1-473c-f4cb-1e6865294627"
   },
   "outputs": [],
   "source": [
    "brain_df.mask_path[:5]"
   ]
  },
  {
   "cell_type": "code",
   "execution_count": null,
   "metadata": {
    "execution": {
     "iopub.execute_input": "2021-12-07T00:04:15.354952Z",
     "iopub.status.busy": "2021-12-07T00:04:15.354496Z",
     "iopub.status.idle": "2021-12-07T00:04:15.363292Z",
     "shell.execute_reply": "2021-12-07T00:04:15.361501Z",
     "shell.execute_reply.started": "2021-12-07T00:04:15.354914Z"
    },
    "id": "4RCLX4Rrt2B_",
    "outputId": "3a48df3c-e182-472c-8c02-2040a4dbc5b6"
   },
   "outputs": [],
   "source": [
    "brain_df.image_path[:5]"
   ]
  },
  {
   "cell_type": "code",
   "execution_count": null,
   "metadata": {
    "execution": {
     "iopub.execute_input": "2021-12-07T00:04:15.367646Z",
     "iopub.status.busy": "2021-12-07T00:04:15.367085Z",
     "iopub.status.idle": "2021-12-07T00:04:15.650481Z",
     "shell.execute_reply": "2021-12-07T00:04:15.649696Z",
     "shell.execute_reply.started": "2021-12-07T00:04:15.367609Z"
    },
    "id": "okTosJ_LwnxA",
    "outputId": "50143c66-737f-45ae-db1d-2ebf8e2f8db5"
   },
   "outputs": [],
   "source": [
    "plt.figure(figsize=(10,10))\n",
    "plt.imshow(cv2.imread(brain_df.mask_path[2490]))\n",
    "plt.show()"
   ]
  },
  {
   "cell_type": "code",
   "execution_count": null,
   "metadata": {
    "execution": {
     "iopub.execute_input": "2021-12-07T00:04:15.652187Z",
     "iopub.status.busy": "2021-12-07T00:04:15.651942Z",
     "iopub.status.idle": "2021-12-07T00:04:16.042671Z",
     "shell.execute_reply": "2021-12-07T00:04:16.042069Z",
     "shell.execute_reply.started": "2021-12-07T00:04:15.652153Z"
    },
    "id": "p9h9Xgh184jO",
    "outputId": "664576d9-40b9-42ed-e75c-9279f67845e2"
   },
   "outputs": [],
   "source": [
    "plt.figure(figsize=(10,10))\n",
    "plt.imshow(cv2.imread(brain_df.image_path[2490]))\n",
    "plt.show()"
   ]
  },
  {
   "cell_type": "code",
   "execution_count": null,
   "metadata": {
    "execution": {
     "iopub.execute_input": "2021-12-07T00:04:16.043845Z",
     "iopub.status.busy": "2021-12-07T00:04:16.043563Z",
     "iopub.status.idle": "2021-12-07T00:04:16.052794Z",
     "shell.execute_reply": "2021-12-07T00:04:16.051693Z",
     "shell.execute_reply.started": "2021-12-07T00:04:16.04379Z"
    },
    "id": "uC3A4zhl3qUB",
    "outputId": "81c59512-d45a-423e-eab8-b416cca6775f"
   },
   "outputs": [],
   "source": [
    "cv2.imread(brain_df.mask_path[2490]).max()"
   ]
  },
  {
   "cell_type": "code",
   "execution_count": null,
   "metadata": {
    "execution": {
     "iopub.execute_input": "2021-12-07T00:04:16.054263Z",
     "iopub.status.busy": "2021-12-07T00:04:16.05398Z",
     "iopub.status.idle": "2021-12-07T00:04:16.06604Z",
     "shell.execute_reply": "2021-12-07T00:04:16.065205Z",
     "shell.execute_reply.started": "2021-12-07T00:04:16.054231Z"
    },
    "id": "nViy8xHh6RWK",
    "outputId": "d0637585-858e-4d57-ba5e-b1cfbe80aa3a"
   },
   "outputs": [],
   "source": [
    "cv2.imread(brain_df.mask_path[2490]).min()"
   ]
  },
  {
   "cell_type": "code",
   "execution_count": null,
   "metadata": {
    "execution": {
     "iopub.execute_input": "2021-12-07T00:04:16.068251Z",
     "iopub.status.busy": "2021-12-07T00:04:16.067801Z",
     "iopub.status.idle": "2021-12-07T00:04:18.856272Z",
     "shell.execute_reply": "2021-12-07T00:04:18.85392Z",
     "shell.execute_reply.started": "2021-12-07T00:04:16.068215Z"
    },
    "id": "_6pu1iGkGLzT",
    "outputId": "e133bf5b-70f8-46e5-a911-327eeaeb9b52"
   },
   "outputs": [],
   "source": [
    "# Basic visualizations: Visualize the images (MRI and Mask) in the dataset separately \n",
    "import random\n",
    "fig, axs = plt.subplots(5,2, figsize=(20,40))\n",
    "count = 0\n",
    "for x in range(5):\n",
    "  i = random.randint(0, len(brain_df)) # select a random index \n",
    "  axs[count][0].title.set_text(\"Brain MRI\") # set title\n",
    "  axs[count][0].imshow(cv2.imread(brain_df.image_path[i])) # show MRI \n",
    "  axs[count][1].title.set_text(\"Mask : \" + str(brain_df['mask'][i])) # plot title on the mask (0 or 1)\n",
    "  axs[count][1].imshow(cv2.imread(brain_df.mask_path[i])) # Show corresponding mask\n",
    "  count += 1\n",
    "\n",
    "fig.tight_layout()"
   ]
  },
  {
   "cell_type": "code",
   "execution_count": null,
   "metadata": {
    "execution": {
     "iopub.execute_input": "2021-12-07T00:04:18.858434Z",
     "iopub.status.busy": "2021-12-07T00:04:18.85759Z",
     "iopub.status.idle": "2021-12-07T00:04:24.175282Z",
     "shell.execute_reply": "2021-12-07T00:04:24.173491Z",
     "shell.execute_reply.started": "2021-12-07T00:04:18.858395Z"
    },
    "id": "S5U8o-6O6MIR",
    "outputId": "1b908d6e-9f89-4365-b7ea-6fe039c8d819"
   },
   "outputs": [],
   "source": [
    "# Advanced Visualization: visualize the MRI scans along with their mask on one image \n",
    "count = 0\n",
    "fig, axs = plt.subplots(10, 3, figsize = (20, 40))\n",
    "for i in range(len(brain_df)):\n",
    "  if brain_df['mask'][i] ==1 and count <10:\n",
    "    img = io.imread(brain_df.image_path[i])\n",
    "    axs[count][0].title.set_text('Brain MRI')\n",
    "    axs[count][0].imshow(img)\n",
    "\n",
    "    mask = io.imread(brain_df.mask_path[i])\n",
    "    axs[count][1].title.set_text('Mask')\n",
    "    axs[count][1].imshow(mask, cmap = 'gray')\n",
    "\n",
    "    \n",
    "    img[mask == 255] = (255, 0, 0)\n",
    "    axs[count][2].title.set_text('MRI with Mask')\n",
    "    axs[count][2].imshow(img)\n",
    "    count+=1\n",
    "\n",
    "fig.tight_layout()\n"
   ]
  },
  {
   "cell_type": "markdown",
   "metadata": {
    "id": "g3alYoe9Goif"
   },
   "source": [
    "# TRAIN A CLASSIFIER MODEL TO DETECT IF TUMOR EXISTS OR NOT"
   ]
  },
  {
   "cell_type": "code",
   "execution_count": null,
   "metadata": {
    "execution": {
     "iopub.execute_input": "2021-12-07T00:04:24.17698Z",
     "iopub.status.busy": "2021-12-07T00:04:24.176559Z",
     "iopub.status.idle": "2021-12-07T00:04:24.18454Z",
     "shell.execute_reply": "2021-12-07T00:04:24.183888Z",
     "shell.execute_reply.started": "2021-12-07T00:04:24.176946Z"
    },
    "id": "YivtLcVAGuPV",
    "outputId": "9e14c920-0aa8-4f02-fcf2-1591c93585d0"
   },
   "outputs": [],
   "source": [
    "# Drop the patient id column\n",
    "brain_df_train = brain_df.drop(columns = ['patient_id'])\n",
    "brain_df_train.shape"
   ]
  },
  {
   "cell_type": "code",
   "execution_count": null,
   "metadata": {
    "execution": {
     "iopub.execute_input": "2021-12-07T00:04:24.186615Z",
     "iopub.status.busy": "2021-12-07T00:04:24.186163Z",
     "iopub.status.idle": "2021-12-07T00:04:24.200384Z",
     "shell.execute_reply": "2021-12-07T00:04:24.199797Z",
     "shell.execute_reply.started": "2021-12-07T00:04:24.186576Z"
    },
    "id": "1snunGTqGxBV"
   },
   "outputs": [],
   "source": [
    "# Convert the data in mask column to string format, to use categorical mode in flow_from_dataframe\n",
    "brain_df_train['mask'] = brain_df_train['mask'].apply(lambda x: str(x))"
   ]
  },
  {
   "cell_type": "code",
   "execution_count": null,
   "metadata": {
    "execution": {
     "iopub.execute_input": "2021-12-07T00:04:24.202188Z",
     "iopub.status.busy": "2021-12-07T00:04:24.201697Z",
     "iopub.status.idle": "2021-12-07T00:04:24.220861Z",
     "shell.execute_reply": "2021-12-07T00:04:24.220027Z",
     "shell.execute_reply.started": "2021-12-07T00:04:24.202065Z"
    },
    "id": "M-zRg-XBZI-n",
    "outputId": "d93877f2-6224-47e5-a217-77efdfe55fe6"
   },
   "outputs": [],
   "source": [
    "brain_df_train.info()"
   ]
  },
  {
   "cell_type": "code",
   "execution_count": null,
   "metadata": {
    "execution": {
     "iopub.execute_input": "2021-12-07T00:04:24.222882Z",
     "iopub.status.busy": "2021-12-07T00:04:24.222353Z",
     "iopub.status.idle": "2021-12-07T00:04:24.278458Z",
     "shell.execute_reply": "2021-12-07T00:04:24.277544Z",
     "shell.execute_reply.started": "2021-12-07T00:04:24.222845Z"
    },
    "id": "4qsN7ScgGx5b"
   },
   "outputs": [],
   "source": [
    "# split the data into train and test data\n",
    "\n",
    "from sklearn.model_selection import train_test_split\n",
    "\n",
    "train, test = train_test_split(brain_df_train, test_size = 0.2,random_state=42)"
   ]
  },
  {
   "cell_type": "code",
   "execution_count": null,
   "metadata": {
    "execution": {
     "iopub.execute_input": "2021-12-07T00:04:24.279968Z",
     "iopub.status.busy": "2021-12-07T00:04:24.27969Z",
     "iopub.status.idle": "2021-12-07T00:04:24.284561Z",
     "shell.execute_reply": "2021-12-07T00:04:24.283818Z",
     "shell.execute_reply.started": "2021-12-07T00:04:24.279933Z"
    },
    "id": "P00gJa-QGy2f"
   },
   "outputs": [],
   "source": [
    "# create a image generator\n",
    "from keras_preprocessing.image import ImageDataGenerator\n",
    "\n",
    "# Create a data generator which scales the data from 0 to 1 and makes validation split of 0.1\n",
    "datagen = ImageDataGenerator(rescale=1./255., validation_split = 0.1)\n"
   ]
  },
  {
   "cell_type": "code",
   "execution_count": null,
   "metadata": {
    "execution": {
     "iopub.execute_input": "2021-12-07T00:04:24.286619Z",
     "iopub.status.busy": "2021-12-07T00:04:24.285756Z",
     "iopub.status.idle": "2021-12-07T00:04:36.938492Z",
     "shell.execute_reply": "2021-12-07T00:04:36.937542Z",
     "shell.execute_reply.started": "2021-12-07T00:04:24.286582Z"
    },
    "id": "vIv9crZ0GzOG",
    "outputId": "b3de2cdc-fb4b-419e-b6f5-4ee79e51fc71"
   },
   "outputs": [],
   "source": [
    "train_generator=datagen.flow_from_dataframe(\n",
    "dataframe=train,\n",
    "directory= './',\n",
    "x_col='image_path',\n",
    "y_col='mask',\n",
    "subset=\"training\",\n",
    "batch_size=16,\n",
    "shuffle=True,\n",
    "class_mode=\"categorical\",\n",
    "target_size=(256,256))\n",
    "\n",
    "\n",
    "valid_generator=datagen.flow_from_dataframe(\n",
    "dataframe=train,\n",
    "directory= './',\n",
    "x_col='image_path',\n",
    "y_col='mask',\n",
    "subset=\"validation\",\n",
    "batch_size=16,\n",
    "shuffle=True,\n",
    "class_mode=\"categorical\",\n",
    "target_size=(256,256))\n",
    "\n",
    "# Create a data generator for test images\n",
    "test_datagen=ImageDataGenerator(rescale=1./255.)\n",
    "\n",
    "test_generator=test_datagen.flow_from_dataframe(\n",
    "dataframe=test,\n",
    "directory= './',\n",
    "x_col='image_path',\n",
    "y_col='mask',\n",
    "batch_size=16,\n",
    "shuffle=False,\n",
    "class_mode='categorical',\n",
    "target_size=(256,256))\n",
    "\n"
   ]
  },
  {
   "cell_type": "code",
   "execution_count": null,
   "metadata": {
    "execution": {
     "iopub.execute_input": "2021-12-07T00:04:36.940301Z",
     "iopub.status.busy": "2021-12-07T00:04:36.94001Z",
     "iopub.status.idle": "2021-12-07T00:04:42.055618Z",
     "shell.execute_reply": "2021-12-07T00:04:42.05489Z",
     "shell.execute_reply.started": "2021-12-07T00:04:36.940233Z"
    },
    "id": "b1Lx-Go4Icqd",
    "outputId": "b93a2fa7-8b75-4fe2-869c-6c323f89fbc1"
   },
   "outputs": [],
   "source": [
    "# Get the InceptionV3 base model\n",
    "basemodel =InceptionV3(weights = 'imagenet', include_top = False, input_tensor = Input(shape=(256, 256, 3)))"
   ]
  },
  {
   "cell_type": "code",
   "execution_count": null,
   "metadata": {
    "execution": {
     "iopub.execute_input": "2021-12-07T00:04:42.05716Z",
     "iopub.status.busy": "2021-12-07T00:04:42.056922Z",
     "iopub.status.idle": "2021-12-07T00:04:42.196422Z",
     "shell.execute_reply": "2021-12-07T00:04:42.195719Z",
     "shell.execute_reply.started": "2021-12-07T00:04:42.057127Z"
    },
    "id": "8XZAiVyyIerF",
    "outputId": "3ffe01a9-262a-4cdf-e232-1787ef249057"
   },
   "outputs": [],
   "source": [
    "basemodel.summary()"
   ]
  },
  {
   "cell_type": "code",
   "execution_count": null,
   "metadata": {
    "execution": {
     "iopub.execute_input": "2021-12-07T00:04:42.197752Z",
     "iopub.status.busy": "2021-12-07T00:04:42.197521Z",
     "iopub.status.idle": "2021-12-07T00:04:42.202427Z",
     "shell.execute_reply": "2021-12-07T00:04:42.201749Z",
     "shell.execute_reply.started": "2021-12-07T00:04:42.19772Z"
    },
    "id": "phnUpI52Ifwk"
   },
   "outputs": [],
   "source": [
    "# freeze the model weights\n",
    "\n",
    "for layer in basemodel.layers:\n",
    "  layers.trainable = False"
   ]
  },
  {
   "cell_type": "code",
   "execution_count": null,
   "metadata": {
    "execution": {
     "iopub.execute_input": "2021-12-07T00:04:42.203924Z",
     "iopub.status.busy": "2021-12-07T00:04:42.203663Z",
     "iopub.status.idle": "2021-12-07T00:04:42.265624Z",
     "shell.execute_reply": "2021-12-07T00:04:42.264989Z",
     "shell.execute_reply.started": "2021-12-07T00:04:42.203891Z"
    },
    "id": "nxXUAWdvIpoh"
   },
   "outputs": [],
   "source": [
    "# Add classification head to the base model\n",
    "\n",
    "headmodel = basemodel.output\n",
    "headmodel = AveragePooling2D(pool_size = (4,4))(headmodel)\n",
    "headmodel = Flatten(name= 'flatten')(headmodel)\n",
    "headmodel = Dense(256, activation = \"relu\")(headmodel)\n",
    "headmodel = Dropout(0.25)(headmodel)#\n",
    "headmodel = Dense(256, activation = \"relu\")(headmodel)\n",
    "headmodel = Dropout(0.25)(headmodel)\n",
    "headmodel = Dense(256, activation = \"relu\")(headmodel)\n",
    "headmodel = Dropout(0.25)(headmodel)\n",
    "headmodel = Dense(2, activation = 'softmax')(headmodel)\n",
    "\n",
    "model = Model(inputs = basemodel.input, outputs = headmodel)"
   ]
  },
  {
   "cell_type": "code",
   "execution_count": null,
   "metadata": {
    "execution": {
     "iopub.execute_input": "2021-12-07T00:04:42.26713Z",
     "iopub.status.busy": "2021-12-07T00:04:42.266889Z",
     "iopub.status.idle": "2021-12-07T00:04:42.406247Z",
     "shell.execute_reply": "2021-12-07T00:04:42.405528Z",
     "shell.execute_reply.started": "2021-12-07T00:04:42.267096Z"
    },
    "id": "Vz9uVaUTGtIP",
    "outputId": "d322968a-29b7-4b18-84ac-0c2e0376b79b"
   },
   "outputs": [],
   "source": [
    "model.summary()"
   ]
  },
  {
   "cell_type": "code",
   "execution_count": null,
   "metadata": {
    "execution": {
     "iopub.execute_input": "2021-12-07T00:04:42.40775Z",
     "iopub.status.busy": "2021-12-07T00:04:42.407285Z",
     "iopub.status.idle": "2021-12-07T00:04:42.414064Z",
     "shell.execute_reply": "2021-12-07T00:04:42.413309Z",
     "shell.execute_reply.started": "2021-12-07T00:04:42.407707Z"
    }
   },
   "outputs": [],
   "source": [
    "earlystopping = EarlyStopping(monitor='val_loss', \n",
    "                              mode='min', \n",
    "                              verbose=1, \n",
    "                              patience=25\n",
    "                             )\n",
    "checkpointer = ModelCheckpoint(filepath=\"/kaggle/working/classifier-resnet-weights.hdf5\", \n",
    "                               verbose=1, \n",
    "                               save_best_only=True\n",
    "                              )\n",
    "reduce_lr = ReduceLROnPlateau(monitor='val_loss',\n",
    "                              mode='min',\n",
    "                              verbose=1,\n",
    "                              patience=10,\n",
    "                              min_delta=0.0001,\n",
    "                              factor=0.2\n",
    "                             )\n",
    "callbacks = [checkpointer, earlystopping, reduce_lr]"
   ]
  },
  {
   "cell_type": "code",
   "execution_count": null,
   "metadata": {
    "execution": {
     "iopub.execute_input": "2021-12-07T00:04:42.416272Z",
     "iopub.status.busy": "2021-12-07T00:04:42.41527Z",
     "iopub.status.idle": "2021-12-07T00:04:42.442618Z",
     "shell.execute_reply": "2021-12-07T00:04:42.44172Z",
     "shell.execute_reply.started": "2021-12-07T00:04:42.416231Z"
    },
    "id": "k2pTe3e-IraV"
   },
   "outputs": [],
   "source": [
    "# compile the model\n",
    "\n",
    "model.compile(loss = 'categorical_crossentropy', optimizer='adam', metrics= [\"accuracy\"])"
   ]
  },
  {
   "cell_type": "code",
   "execution_count": null,
   "metadata": {
    "execution": {
     "iopub.execute_input": "2021-12-07T00:04:42.444232Z",
     "iopub.status.busy": "2021-12-07T00:04:42.44378Z",
     "iopub.status.idle": "2021-12-07T00:44:18.42521Z",
     "shell.execute_reply": "2021-12-07T00:44:18.424137Z",
     "shell.execute_reply.started": "2021-12-07T00:04:42.444194Z"
    },
    "id": "3o3bv8qNIula",
    "outputId": "f74f321b-84bf-4ebb-d239-f23e28f130fd"
   },
   "outputs": [],
   "source": [
    "history = model.fit(train_generator, \n",
    "              steps_per_epoch= train_generator.n // train_generator.batch_size, \n",
    "              epochs = 100, \n",
    "              validation_data= valid_generator, \n",
    "              validation_steps= valid_generator.n // valid_generator.batch_size, \n",
    "              callbacks = [checkpointer, earlystopping, reduce_lr])"
   ]
  },
  {
   "cell_type": "markdown",
   "metadata": {
    "id": "-0YGCNd9Iykz"
   },
   "source": [
    "# Save the model architecture to json file for future use\n"
   ]
  },
  {
   "cell_type": "code",
   "execution_count": null,
   "metadata": {
    "execution": {
     "iopub.execute_input": "2021-12-07T00:44:18.427172Z",
     "iopub.status.busy": "2021-12-07T00:44:18.426848Z",
     "iopub.status.idle": "2021-12-07T00:44:18.533821Z",
     "shell.execute_reply": "2021-12-07T00:44:18.533111Z",
     "shell.execute_reply.started": "2021-12-07T00:44:18.427132Z"
    }
   },
   "outputs": [],
   "source": [
    "model_json = model.to_json()\n",
    "with open(\"/kaggle/working/classifierresnetmodel.json\", \"w\") as json_file:\n",
    "    json_file.write(model_json)"
   ]
  },
  {
   "cell_type": "markdown",
   "metadata": {
    "id": "12cadIABJEO-"
   },
   "source": [
    "# ASSESS TRAINED MODEL PERFORMANCE"
   ]
  },
  {
   "cell_type": "code",
   "execution_count": null,
   "metadata": {
    "execution": {
     "iopub.execute_input": "2021-12-07T00:44:18.535549Z",
     "iopub.status.busy": "2021-12-07T00:44:18.535075Z",
     "iopub.status.idle": "2021-12-07T00:44:20.438157Z",
     "shell.execute_reply": "2021-12-07T00:44:20.437413Z",
     "shell.execute_reply.started": "2021-12-07T00:44:18.535507Z"
    },
    "id": "WjbV7cu0b1Wd"
   },
   "outputs": [],
   "source": [
    "with open('/kaggle/working/classifierresnetmodel.json', 'r') as json_file:\n",
    "    json_savedModel= json_file.read()\n",
    "# load the model  \n",
    "model = tf.keras.models.model_from_json(json_savedModel)\n",
    "model.load_weights('/kaggle/working/classifier-resnet-weights.hdf5')\n",
    "model.compile(loss = 'categorical_crossentropy', optimizer='adam', metrics= [\"accuracy\"])"
   ]
  },
  {
   "cell_type": "code",
   "execution_count": null,
   "metadata": {
    "execution": {
     "iopub.execute_input": "2021-12-07T00:44:20.439813Z",
     "iopub.status.busy": "2021-12-07T00:44:20.439572Z",
     "iopub.status.idle": "2021-12-07T00:44:32.144983Z",
     "shell.execute_reply": "2021-12-07T00:44:32.144115Z",
     "shell.execute_reply.started": "2021-12-07T00:44:20.439778Z"
    },
    "id": "aF5lW4D2JHTf",
    "outputId": "090f8c3b-d8ff-4c33-eeef-ebcdf7d210bd"
   },
   "outputs": [],
   "source": [
    "# make prediction\n",
    "\n",
    "test_predict = model.predict(test_generator, steps = test_generator.n // 16, verbose =1)"
   ]
  },
  {
   "cell_type": "code",
   "execution_count": null,
   "metadata": {
    "execution": {
     "iopub.execute_input": "2021-12-07T00:44:32.147142Z",
     "iopub.status.busy": "2021-12-07T00:44:32.146804Z",
     "iopub.status.idle": "2021-12-07T00:44:32.154992Z",
     "shell.execute_reply": "2021-12-07T00:44:32.154199Z",
     "shell.execute_reply.started": "2021-12-07T00:44:32.147101Z"
    },
    "id": "IrV4PK1PFWGW",
    "outputId": "f7bc7387-196e-43d7-8b57-7e34089e9517"
   },
   "outputs": [],
   "source": [
    "test_predict.shape"
   ]
  },
  {
   "cell_type": "code",
   "execution_count": null,
   "metadata": {
    "execution": {
     "iopub.execute_input": "2021-12-07T00:44:32.156882Z",
     "iopub.status.busy": "2021-12-07T00:44:32.156292Z",
     "iopub.status.idle": "2021-12-07T00:44:32.164656Z",
     "shell.execute_reply": "2021-12-07T00:44:32.163928Z",
     "shell.execute_reply.started": "2021-12-07T00:44:32.156824Z"
    },
    "id": "PyGWTg-tFmkq",
    "outputId": "8275b0ac-c805-4f70-8bcc-b9a196f90212"
   },
   "outputs": [],
   "source": [
    "test_predict[:5]"
   ]
  },
  {
   "cell_type": "code",
   "execution_count": null,
   "metadata": {
    "execution": {
     "iopub.execute_input": "2021-12-07T00:44:32.166791Z",
     "iopub.status.busy": "2021-12-07T00:44:32.166287Z",
     "iopub.status.idle": "2021-12-07T00:44:32.178185Z",
     "shell.execute_reply": "2021-12-07T00:44:32.17733Z",
     "shell.execute_reply.started": "2021-12-07T00:44:32.166734Z"
    },
    "id": "o26IglwYJLA0"
   },
   "outputs": [],
   "source": [
    "# Obtain the predicted class from the model prediction\n",
    "predict = []\n",
    "\n",
    "for i in test_predict:\n",
    "  predict.append(str(np.argmax(i)))\n",
    "\n",
    "predict = np.asarray(predict)"
   ]
  },
  {
   "cell_type": "code",
   "execution_count": null,
   "metadata": {
    "execution": {
     "iopub.execute_input": "2021-12-07T00:44:32.181385Z",
     "iopub.status.busy": "2021-12-07T00:44:32.179041Z",
     "iopub.status.idle": "2021-12-07T00:44:32.190325Z",
     "shell.execute_reply": "2021-12-07T00:44:32.189609Z",
     "shell.execute_reply.started": "2021-12-07T00:44:32.181346Z"
    },
    "id": "ZR-tFG50Fxgh",
    "outputId": "b5568d4a-0a63-44fd-b29d-1c83e55ef6a9"
   },
   "outputs": [],
   "source": [
    "predict"
   ]
  },
  {
   "cell_type": "code",
   "execution_count": null,
   "metadata": {
    "execution": {
     "iopub.execute_input": "2021-12-07T00:44:32.196624Z",
     "iopub.status.busy": "2021-12-07T00:44:32.196423Z",
     "iopub.status.idle": "2021-12-07T00:44:32.20344Z",
     "shell.execute_reply": "2021-12-07T00:44:32.202663Z",
     "shell.execute_reply.started": "2021-12-07T00:44:32.1966Z"
    },
    "id": "F7EnAy8FJMTi",
    "outputId": "889bd9fb-3347-4c94-9d96-773bc7821c9e"
   },
   "outputs": [],
   "source": [
    "# since we have used test generator, it limited the images to len(predict), due to batch size\n",
    "original = np.asarray(test['mask'])[:len(predict)]\n",
    "len(original)"
   ]
  },
  {
   "cell_type": "code",
   "execution_count": null,
   "metadata": {
    "execution": {
     "iopub.execute_input": "2021-12-07T00:44:32.205481Z",
     "iopub.status.busy": "2021-12-07T00:44:32.204749Z",
     "iopub.status.idle": "2021-12-07T00:44:32.217069Z",
     "shell.execute_reply": "2021-12-07T00:44:32.216157Z",
     "shell.execute_reply.started": "2021-12-07T00:44:32.205442Z"
    },
    "id": "njJ6N1reJMSk",
    "outputId": "f5ae40f6-499b-40c6-b737-e0a114875f09"
   },
   "outputs": [],
   "source": [
    "# Obtain the accuracy of the model\n",
    "from sklearn.metrics import accuracy_score\n",
    "\n",
    "accuracy = round(accuracy_score(original, predict),2)\n",
    "accuracy"
   ]
  },
  {
   "cell_type": "code",
   "execution_count": null,
   "metadata": {
    "execution": {
     "iopub.execute_input": "2021-12-07T00:44:32.219203Z",
     "iopub.status.busy": "2021-12-07T00:44:32.218664Z",
     "iopub.status.idle": "2021-12-07T00:44:32.423311Z",
     "shell.execute_reply": "2021-12-07T00:44:32.422646Z",
     "shell.execute_reply.started": "2021-12-07T00:44:32.219169Z"
    },
    "id": "n_MWwt2eJMPJ",
    "outputId": "cc80e69f-acc2-4106-d437-04dd37686d49"
   },
   "outputs": [],
   "source": [
    "# plot the confusion matrix\n",
    "from sklearn.metrics import confusion_matrix\n",
    "\n",
    "cm = confusion_matrix(original, predict)\n",
    "plt.figure(figsize = (7,7))\n",
    "sns.heatmap(cm, annot=True,fmt='d')\n",
    "plt.show()"
   ]
  },
  {
   "cell_type": "code",
   "execution_count": null,
   "metadata": {
    "execution": {
     "iopub.execute_input": "2021-12-07T00:44:32.424656Z",
     "iopub.status.busy": "2021-12-07T00:44:32.424424Z",
     "iopub.status.idle": "2021-12-07T00:44:32.463611Z",
     "shell.execute_reply": "2021-12-07T00:44:32.462947Z",
     "shell.execute_reply.started": "2021-12-07T00:44:32.424622Z"
    },
    "id": "qQSUiFWWIhDX",
    "outputId": "84c63b16-8007-4579-ef88-eeb0af1db280"
   },
   "outputs": [],
   "source": [
    "from sklearn.metrics import classification_report\n",
    "\n",
    "report = classification_report(original, predict, labels = [0,1])\n",
    "print(report)"
   ]
  },
  {
   "cell_type": "markdown",
   "metadata": {
    "id": "j0t5vg-NJzgv"
   },
   "source": [
    "# BUILD A SEGMENTATION MODEL TO LOCALIZE TUMOR"
   ]
  },
  {
   "cell_type": "code",
   "execution_count": null,
   "metadata": {
    "execution": {
     "iopub.execute_input": "2021-12-07T00:44:32.465192Z",
     "iopub.status.busy": "2021-12-07T00:44:32.464799Z",
     "iopub.status.idle": "2021-12-07T00:44:32.473757Z",
     "shell.execute_reply": "2021-12-07T00:44:32.472876Z",
     "shell.execute_reply.started": "2021-12-07T00:44:32.465156Z"
    },
    "id": "1RFLe9d0J6vp",
    "outputId": "5fa0ad56-c5fc-4fdc-9066-7fee41dde57c"
   },
   "outputs": [],
   "source": [
    "# Get the dataframe containing MRIs which have masks associated with them.\n",
    "brain_df_mask = brain_df[brain_df['mask'] == 1]\n",
    "brain_df_mask.shape"
   ]
  },
  {
   "cell_type": "code",
   "execution_count": null,
   "metadata": {
    "execution": {
     "iopub.execute_input": "2021-12-07T00:44:32.47589Z",
     "iopub.status.busy": "2021-12-07T00:44:32.475261Z",
     "iopub.status.idle": "2021-12-07T00:44:32.483496Z",
     "shell.execute_reply": "2021-12-07T00:44:32.482862Z",
     "shell.execute_reply.started": "2021-12-07T00:44:32.47585Z"
    },
    "id": "OPSF6Y2NJ8_B"
   },
   "outputs": [],
   "source": [
    "# split the data into train and test data\n",
    "\n",
    "from sklearn.model_selection import train_test_split\n",
    "\n",
    "X_train, X_val = train_test_split(brain_df_mask, test_size=0.2,random_state=42)\n",
    "X_test, X_val = train_test_split(X_val, test_size=0.5,random_state=42)"
   ]
  },
  {
   "cell_type": "code",
   "execution_count": null,
   "metadata": {
    "execution": {
     "iopub.execute_input": "2021-12-07T00:44:32.485609Z",
     "iopub.status.busy": "2021-12-07T00:44:32.484936Z",
     "iopub.status.idle": "2021-12-07T00:44:32.492548Z",
     "shell.execute_reply": "2021-12-07T00:44:32.491803Z",
     "shell.execute_reply.started": "2021-12-07T00:44:32.485552Z"
    }
   },
   "outputs": [],
   "source": [
    "X_train.shape,X_test.shape, X_val.shape"
   ]
  },
  {
   "cell_type": "code",
   "execution_count": null,
   "metadata": {
    "execution": {
     "iopub.execute_input": "2021-12-07T00:44:32.494955Z",
     "iopub.status.busy": "2021-12-07T00:44:32.493381Z",
     "iopub.status.idle": "2021-12-07T00:44:32.501544Z",
     "shell.execute_reply": "2021-12-07T00:44:32.50087Z",
     "shell.execute_reply.started": "2021-12-07T00:44:32.494919Z"
    },
    "id": "C2PSDT0rJ9Jq"
   },
   "outputs": [],
   "source": [
    "# create separate list for imageId, classId to pass into the generator\n",
    "\n",
    "train_ids = list(X_train.image_path)\n",
    "train_mask = list(X_train.mask_path)\n",
    "\n",
    "val_ids = list(X_val.image_path)\n",
    "val_mask= list(X_val.mask_path)"
   ]
  },
  {
   "cell_type": "code",
   "execution_count": null,
   "metadata": {
    "execution": {
     "iopub.execute_input": "2021-12-07T00:44:32.503961Z",
     "iopub.status.busy": "2021-12-07T00:44:32.502449Z",
     "iopub.status.idle": "2021-12-07T00:44:32.517619Z",
     "shell.execute_reply": "2021-12-07T00:44:32.516968Z",
     "shell.execute_reply.started": "2021-12-07T00:44:32.503921Z"
    },
    "id": "umgyHMkYJ9On"
   },
   "outputs": [],
   "source": [
    "# Utilities file contains the code for custom loss function and custom data generator\n",
    "from utilities import DataGenerator\n",
    "\n",
    "# create image generators\n",
    "\n",
    "training_generator = DataGenerator(train_ids,train_mask)\n",
    "validation_generator = DataGenerator(val_ids,val_mask)"
   ]
  },
  {
   "cell_type": "code",
   "execution_count": null,
   "metadata": {
    "execution": {
     "iopub.execute_input": "2021-12-07T00:44:32.519315Z",
     "iopub.status.busy": "2021-12-07T00:44:32.518857Z",
     "iopub.status.idle": "2021-12-07T00:44:32.52696Z",
     "shell.execute_reply": "2021-12-07T00:44:32.526246Z",
     "shell.execute_reply.started": "2021-12-07T00:44:32.519264Z"
    },
    "id": "NYZ9efuqJ8-H"
   },
   "outputs": [],
   "source": [
    "def resblock(X, f):\n",
    "  \n",
    "\n",
    "  # make a copy of input\n",
    "  X_copy = X\n",
    "\n",
    "  # main path\n",
    "  # Read more about he_normal: https://medium.com/@prateekvishnu/xavier-and-he-normal-he-et-al-initialization-8e3d7a087528\n",
    "\n",
    "  X = Conv2D(f, kernel_size = (1,1) ,strides = (1,1),kernel_initializer ='he_normal')(X)\n",
    "  X = BatchNormalization()(X)\n",
    "  X = Activation('relu')(X) \n",
    "\n",
    "  X = Conv2D(f, kernel_size = (3,3), strides =(1,1), padding = 'same', kernel_initializer ='he_normal')(X)\n",
    "  X = BatchNormalization()(X)\n",
    "\n",
    "  # Short path\n",
    "  # Read more here: https://towardsdatascience.com/understanding-and-coding-a-resnet-in-keras-446d7ff84d33\n",
    "\n",
    "  X_copy = Conv2D(f, kernel_size = (1,1), strides =(1,1), kernel_initializer ='he_normal')(X_copy)\n",
    "  X_copy = BatchNormalization()(X_copy)\n",
    "\n",
    "  # Adding the output from main path and short path together\n",
    "\n",
    "  X = Add()([X,X_copy])\n",
    "  X = Activation('relu')(X)\n",
    "\n",
    "  return X"
   ]
  },
  {
   "cell_type": "code",
   "execution_count": null,
   "metadata": {
    "execution": {
     "iopub.execute_input": "2021-12-07T00:44:32.528534Z",
     "iopub.status.busy": "2021-12-07T00:44:32.528119Z",
     "iopub.status.idle": "2021-12-07T00:44:32.543222Z",
     "shell.execute_reply": "2021-12-07T00:44:32.542465Z",
     "shell.execute_reply.started": "2021-12-07T00:44:32.528501Z"
    },
    "id": "k2rIPJmYJ87I"
   },
   "outputs": [],
   "source": [
    "# function to upscale and concatenate the values passsed\n",
    "def upsample_concat(x, skip):\n",
    "  x = UpSampling2D((2,2))(x)\n",
    "  merge = Concatenate()([x, skip])\n",
    "\n",
    "  return merge"
   ]
  },
  {
   "cell_type": "code",
   "execution_count": null,
   "metadata": {
    "execution": {
     "iopub.execute_input": "2021-12-07T00:44:32.545445Z",
     "iopub.status.busy": "2021-12-07T00:44:32.544909Z",
     "iopub.status.idle": "2021-12-07T00:44:33.020964Z",
     "shell.execute_reply": "2021-12-07T00:44:33.020254Z",
     "shell.execute_reply.started": "2021-12-07T00:44:32.545402Z"
    },
    "id": "MzOX-ZOfJ84M"
   },
   "outputs": [],
   "source": [
    "input_shape = (256,256,3)\n",
    "\n",
    "# Input tensor shape\n",
    "X_input = Input(input_shape)\n",
    "\n",
    "# Stage 1\n",
    "conv1_in = Conv2D(16,3,activation= 'relu', padding = 'same', kernel_initializer ='he_normal')(X_input)\n",
    "conv1_in = BatchNormalization()(conv1_in)\n",
    "conv1_in = Conv2D(16,3,activation= 'relu', padding = 'same', kernel_initializer ='he_normal')(conv1_in)\n",
    "conv1_in = BatchNormalization()(conv1_in)\n",
    "pool_1 = MaxPool2D(pool_size = (2,2))(conv1_in)\n",
    "\n",
    "# Stage 2\n",
    "conv2_in = resblock(pool_1, 32)\n",
    "pool_2 = MaxPool2D(pool_size = (2,2))(conv2_in)\n",
    "\n",
    "# Stage 3\n",
    "conv3_in = resblock(pool_2, 64)\n",
    "pool_3 = MaxPool2D(pool_size = (2,2))(conv3_in)\n",
    "\n",
    "# Stage 4\n",
    "conv4_in = resblock(pool_3, 128)\n",
    "pool_4 = MaxPool2D(pool_size = (2,2))(conv4_in)\n",
    "\n",
    "# Stage 5 (Bottle Neck)\n",
    "conv5_in = resblock(pool_4, 256)\n",
    "\n",
    "# Upscale stage 1\n",
    "up_1 = upsample_concat(conv5_in, conv4_in)\n",
    "up_1 = resblock(up_1, 128)\n",
    "\n",
    "# Upscale stage 2\n",
    "up_2 = upsample_concat(up_1, conv3_in)\n",
    "up_2 = resblock(up_2, 64)\n",
    "\n",
    "# Upscale stage 3\n",
    "up_3 = upsample_concat(up_2, conv2_in)\n",
    "up_3 = resblock(up_3, 32)\n",
    "\n",
    "# Upscale stage 4\n",
    "up_4 = upsample_concat(up_3, conv1_in)\n",
    "up_4 = resblock(up_4, 16)\n",
    "\n",
    "# Final Output\n",
    "output = Conv2D(1, (1,1), padding = \"same\", activation = \"sigmoid\")(up_4)\n",
    "\n",
    "model_seg = Model(inputs = X_input, outputs = output )\n"
   ]
  },
  {
   "cell_type": "code",
   "execution_count": null,
   "metadata": {
    "execution": {
     "iopub.execute_input": "2021-12-07T00:44:33.02345Z",
     "iopub.status.busy": "2021-12-07T00:44:33.022938Z",
     "iopub.status.idle": "2021-12-07T00:44:33.070226Z",
     "shell.execute_reply": "2021-12-07T00:44:33.069501Z",
     "shell.execute_reply.started": "2021-12-07T00:44:33.0234Z"
    },
    "id": "ZxY4Crtntitr",
    "outputId": "16bc7b22-b4a3-4479-b19f-165ae3c7d402"
   },
   "outputs": [],
   "source": [
    "model_seg.summary()"
   ]
  },
  {
   "cell_type": "markdown",
   "metadata": {
    "id": "b5DyqMyWKb_S"
   },
   "source": [
    "# TRAIN A SEGMENTATION RESUNET MODEL TO LOCALIZE TUMOR"
   ]
  },
  {
   "cell_type": "markdown",
   "metadata": {
    "id": "KIHesWPWKil9"
   },
   "source": [
    "## Loss function:\n",
    " \n",
    "We need a custom loss function to train this ResUNet.So,  we have used the loss function as it is from https://github.com/nabsabraham/focal-tversky-unet/blob/master/losses.py\n",
    "\n",
    "\n"
   ]
  },
  {
   "cell_type": "code",
   "execution_count": null,
   "metadata": {
    "execution": {
     "iopub.execute_input": "2021-12-07T00:44:33.072012Z",
     "iopub.status.busy": "2021-12-07T00:44:33.071751Z",
     "iopub.status.idle": "2021-12-07T00:44:33.080223Z",
     "shell.execute_reply": "2021-12-07T00:44:33.079452Z",
     "shell.execute_reply.started": "2021-12-07T00:44:33.071979Z"
    }
   },
   "outputs": [],
   "source": [
    "\"\"\"@article{focal-unet,\n",
    "  title={A novel Focal Tversky loss function with improved Attention U-Net for lesion segmentation},\n",
    "  author={Abraham, Nabila and Khan, Naimul Mefraz},\n",
    "  journal={arXiv preprint arXiv:1810.07842},\n",
    "  year={2018}\n",
    "}\"\"\""
   ]
  },
  {
   "cell_type": "code",
   "execution_count": null,
   "metadata": {
    "execution": {
     "iopub.execute_input": "2021-12-07T00:44:33.082251Z",
     "iopub.status.busy": "2021-12-07T00:44:33.081807Z",
     "iopub.status.idle": "2021-12-07T00:44:33.086064Z",
     "shell.execute_reply": "2021-12-07T00:44:33.084889Z",
     "shell.execute_reply.started": "2021-12-07T00:44:33.082215Z"
    },
    "id": "4UwSHSDmKjfO"
   },
   "outputs": [],
   "source": [
    "# Utilities file contains the code for custom loss function and custom data generator\n",
    "\n",
    "from utilities import tversky_loss, tversky"
   ]
  },
  {
   "cell_type": "code",
   "execution_count": null,
   "metadata": {
    "execution": {
     "iopub.execute_input": "2021-12-07T00:44:33.088326Z",
     "iopub.status.busy": "2021-12-07T00:44:33.088011Z",
     "iopub.status.idle": "2021-12-07T00:44:33.095469Z",
     "shell.execute_reply": "2021-12-07T00:44:33.09466Z",
     "shell.execute_reply.started": "2021-12-07T00:44:33.088294Z"
    }
   },
   "outputs": [],
   "source": [
    "def focal_tversky(y_true,y_pred):\n",
    "    ## IMPORTANT NOTE:\n",
    "    ## It seems that the type of y_true and y_pred are not the same. One is of type\n",
    "    ## float32 and other int64. They need to be cast as the same type for the training\n",
    "    ## to actually work.\n",
    "    y_true = tf.cast(y_true, tf.float32)\n",
    "    y_pred = tf.cast(y_pred, tf.float32)\n",
    "    #print(type(y_pred))\n",
    "    pt_1 = tversky(y_true, y_pred)\n",
    "    gamma = 0.75\n",
    "    return K.pow((1-pt_1), gamma)"
   ]
  },
  {
   "cell_type": "code",
   "execution_count": null,
   "metadata": {
    "execution": {
     "iopub.execute_input": "2021-12-07T00:44:33.098283Z",
     "iopub.status.busy": "2021-12-07T00:44:33.097487Z",
     "iopub.status.idle": "2021-12-07T00:44:33.11332Z",
     "shell.execute_reply": "2021-12-07T00:44:33.112429Z",
     "shell.execute_reply.started": "2021-12-07T00:44:33.098248Z"
    }
   },
   "outputs": [],
   "source": [
    "# compling model and callbacks functions\n",
    "adam = tf.keras.optimizers.Adam(lr = 0.05, epsilon = 0.1)\n",
    "model_seg.compile(optimizer = adam, \n",
    "                  loss = focal_tversky, \n",
    "                  metrics = [tversky]\n",
    "                 )\n",
    "#callbacks\n",
    "earlystopping = EarlyStopping(monitor='val_loss',\n",
    "                              mode='min', \n",
    "                              verbose=1, \n",
    "                              patience=25\n",
    "                             )\n",
    "# save the best model with lower validation loss\n",
    "checkpointer = ModelCheckpoint(filepath=\"/kaggle/workingResUNet-weights.hdf5\", \n",
    "                               verbose=1, \n",
    "                               save_best_only=True\n",
    "                              )\n",
    "reduce_lr = ReduceLROnPlateau(monitor='val_loss',\n",
    "                              mode='min',\n",
    "                              verbose=1,\n",
    "                              patience=10,\n",
    "                              min_delta=0.0001,\n",
    "                              factor=0.2\n",
    "                             )"
   ]
  },
  {
   "cell_type": "code",
   "execution_count": null,
   "metadata": {
    "execution": {
     "iopub.execute_input": "2021-12-07T00:44:33.115302Z",
     "iopub.status.busy": "2021-12-07T00:44:33.114981Z",
     "iopub.status.idle": "2021-12-07T00:54:22.2498Z",
     "shell.execute_reply": "2021-12-07T00:54:22.24876Z",
     "shell.execute_reply.started": "2021-12-07T00:44:33.115269Z"
    },
    "id": "9AwdLJKUKk_p",
    "outputId": "3f12bbd5-53be-417e-8189-172a0f34c23b"
   },
   "outputs": [],
   "source": [
    "history = model_seg.fit(training_generator, epochs = 1000, validation_data = validation_generator,\n",
    "                        callbacks = [checkpointer, earlystopping,reduce_lr])"
   ]
  },
  {
   "cell_type": "code",
   "execution_count": null,
   "metadata": {
    "execution": {
     "iopub.execute_input": "2021-12-07T00:54:22.253903Z",
     "iopub.status.busy": "2021-12-07T00:54:22.253648Z",
     "iopub.status.idle": "2021-12-07T00:54:24.679201Z",
     "shell.execute_reply": "2021-12-07T00:54:24.678439Z",
     "shell.execute_reply.started": "2021-12-07T00:54:22.253874Z"
    },
    "id": "2G8kJ0Q6Kk-k"
   },
   "outputs": [],
   "source": [
    "# save the model architecture to json file for future use\n",
    "\n",
    "model_json = model_seg.to_json()\n",
    "with open(\"/kaggle/working/ResUNet-model.json\",\"w\") as json_file:\n",
    "  json_file.write(model_json)"
   ]
  },
  {
   "cell_type": "markdown",
   "metadata": {
    "id": "Htn5wbzaLrTS"
   },
   "source": [
    "#  ASSESS TRAINED SEGMENTATION RESUNET MODEL PERFORMANCE"
   ]
  },
  {
   "cell_type": "code",
   "execution_count": null,
   "metadata": {
    "execution": {
     "iopub.execute_input": "2021-12-07T00:54:24.680772Z",
     "iopub.status.busy": "2021-12-07T00:54:24.680548Z",
     "iopub.status.idle": "2021-12-07T00:54:25.506401Z",
     "shell.execute_reply": "2021-12-07T00:54:25.505673Z",
     "shell.execute_reply.started": "2021-12-07T00:54:24.68074Z"
    },
    "id": "tAvXbuuTKk50"
   },
   "outputs": [],
   "source": [
    "from utilities import focal_tversky, tversky_loss, tversky\n",
    "\n",
    "with open('/kaggle/input/healthcare-mri-for-brain-tumor/Healthcare AI Datasets/Brain_MRI/ResUNet-MRI.json', 'r') as json_file:\n",
    "    json_savedModel= json_file.read()\n",
    "\n",
    "# load the model architecture \n",
    "model_seg = tf.keras.models.model_from_json(json_savedModel)\n",
    "model_seg.load_weights('/kaggle/input/healthcare-mri-for-brain-tumor/Healthcare AI Datasets/Brain_MRI/weights_seg.hdf5')\n",
    "adam = tf.keras.optimizers.Adam(lr = 0.05, epsilon = 0.1)\n",
    "model_seg.compile(optimizer = adam, loss = focal_tversky, metrics = [tversky])"
   ]
  },
  {
   "cell_type": "code",
   "execution_count": null,
   "metadata": {
    "execution": {
     "iopub.execute_input": "2021-12-07T00:54:25.508111Z",
     "iopub.status.busy": "2021-12-07T00:54:25.507874Z",
     "iopub.status.idle": "2021-12-07T00:55:22.000765Z",
     "shell.execute_reply": "2021-12-07T00:55:22.000053Z",
     "shell.execute_reply.started": "2021-12-07T00:54:25.508079Z"
    },
    "id": "1E6GN_4lLykD"
   },
   "outputs": [],
   "source": [
    "# Utilities file contains the code for custom loss function and custom data generator\n",
    "from utilities import prediction\n",
    "\n",
    "# making prediction\n",
    "image_id, mask, has_mask = prediction(test, model, model_seg)"
   ]
  },
  {
   "cell_type": "code",
   "execution_count": null,
   "metadata": {
    "execution": {
     "iopub.execute_input": "2021-12-07T00:55:22.002334Z",
     "iopub.status.busy": "2021-12-07T00:55:22.002102Z",
     "iopub.status.idle": "2021-12-07T00:55:23.612512Z",
     "shell.execute_reply": "2021-12-07T00:55:23.611784Z",
     "shell.execute_reply.started": "2021-12-07T00:55:22.002303Z"
    },
    "id": "nqNA7vEDL0Yx",
    "outputId": "223c3113-1ea2-4098-bf89-043db7ba8982"
   },
   "outputs": [],
   "source": [
    "# creating a dataframe for the result\n",
    "df_pred = pd.DataFrame({'image_path': image_id,'predicted_mask': mask,'has_mask': has_mask})\n",
    "df_pred.head()"
   ]
  },
  {
   "cell_type": "code",
   "execution_count": null,
   "metadata": {
    "execution": {
     "iopub.execute_input": "2021-12-07T00:55:23.614112Z",
     "iopub.status.busy": "2021-12-07T00:55:23.613864Z",
     "iopub.status.idle": "2021-12-07T00:55:25.24687Z",
     "shell.execute_reply": "2021-12-07T00:55:25.246055Z",
     "shell.execute_reply.started": "2021-12-07T00:55:23.614078Z"
    },
    "id": "MIP8T2JuL2BQ",
    "outputId": "10a427b0-7ee6-474a-c4c2-93644daf87bd"
   },
   "outputs": [],
   "source": [
    "# Merge the dataframe containing predicted results with the original test data.\n",
    "df_pred = test.merge(df_pred, on = 'image_path')\n",
    "df_pred.head()"
   ]
  },
  {
   "cell_type": "code",
   "execution_count": null,
   "metadata": {
    "execution": {
     "iopub.execute_input": "2021-12-07T00:55:25.248202Z",
     "iopub.status.busy": "2021-12-07T00:55:25.247964Z",
     "iopub.status.idle": "2021-12-07T00:55:36.988734Z",
     "shell.execute_reply": "2021-12-07T00:55:36.987895Z",
     "shell.execute_reply.started": "2021-12-07T00:55:25.248168Z"
    },
    "id": "_4yqe9oDL4c4",
    "outputId": "62e6fc64-6641-421d-a2bf-3383680dec68"
   },
   "outputs": [],
   "source": [
    "count = 0 \n",
    "fig, axs = plt.subplots(12, 5, figsize=(30,90))\n",
    "for i in range(len(df_pred)):\n",
    "  if df_pred['has_mask'][i] == 1 and count < 12:\n",
    "    # read the images and convert them to RGB format\n",
    "    img = io.imread(df_pred.image_path[i])\n",
    "    img = cv2.cvtColor(img, cv2.COLOR_BGR2RGB)\n",
    "    axs[count][0].title.set_text(\"Brain MRI\")\n",
    "    axs[count][0].imshow(img)\n",
    "\n",
    "    # Obtain the mask for the image \n",
    "    mask = io.imread(df_pred.mask_path[i])\n",
    "    axs[count][1].title.set_text(\"Original Mask\")\n",
    "    axs[count][1].imshow(mask)\n",
    "\n",
    "    # Obtain the predicted mask for the image \n",
    "    predicted_mask = np.asarray(df_pred.predicted_mask[i])[0].squeeze().round()\n",
    "    axs[count][2].title.set_text(\"AI Predicted Mask\")\n",
    "    axs[count][2].imshow(predicted_mask)\n",
    "    \n",
    "    # Apply the mask to the image 'mask==255'\n",
    "    img[mask == 255] = (255, 0, 0)\n",
    "    axs[count][3].title.set_text(\"MRI with Original Mask (Ground Truth)\")\n",
    "    axs[count][3].imshow(img)\n",
    "\n",
    "    img_ = io.imread(df_pred.image_path[i])\n",
    "    img_ = cv2.cvtColor(img_, cv2.COLOR_BGR2RGB)\n",
    "    img_[predicted_mask == 1] = (0, 255, 0)\n",
    "    axs[count][4].title.set_text(\"MRI with AI Predicted Mask\")\n",
    "    axs[count][4].imshow(img_)\n",
    "    count += 1\n",
    "\n",
    "fig.tight_layout()"
   ]
  }
 ],
 "metadata": {
  "kaggle": {
   "accelerator": "none",
   "dataSources": [
    {
     "datasetId": 1031109,
     "sourceId": 1737153,
     "sourceType": "datasetVersion"
    }
   ],
   "dockerImageVersionId": 30152,
   "isGpuEnabled": false,
   "isInternetEnabled": false,
   "language": "python",
   "sourceType": "notebook"
  },
  "kernelspec": {
   "display_name": "Python 3 (ipykernel)",
   "language": "python",
   "name": "python3"
  },
  "language_info": {
   "codemirror_mode": {
    "name": "ipython",
    "version": 3
   },
   "file_extension": ".py",
   "mimetype": "text/x-python",
   "name": "python",
   "nbconvert_exporter": "python",
   "pygments_lexer": "ipython3",
   "version": "3.10.13"
  }
 },
 "nbformat": 4,
 "nbformat_minor": 4
}
